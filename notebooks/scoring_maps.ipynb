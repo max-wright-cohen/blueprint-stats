{
 "cells": [
  {
   "cell_type": "code",
   "execution_count": 1,
   "metadata": {
    "collapsed": true
   },
   "outputs": [],
   "source": [
    "import pandas as pd\n",
    "import numpy as np\n",
    "import matplotlib.pyplot as plt\n",
    "%matplotlib inline\n",
    "import os\n",
    "from pdb import set_trace\n",
    "import glob"
   ]
  },
  {
   "cell_type": "code",
   "execution_count": 88,
   "metadata": {
    "collapsed": true
   },
   "outputs": [],
   "source": [
    "data_path_abbr = '/Users/omarschall/blueprint-stats/library/*.csv'\n",
    "figs_path = '/Users/omarschall/blueprint-stats/figs/'"
   ]
  },
  {
   "cell_type": "code",
   "execution_count": 3,
   "metadata": {},
   "outputs": [
    {
     "data": {
      "text/plain": [
       "['/Users/omarschall/blueprint-stats/library/Passes vs. Lost  Boys 2019-08-10_00-00-24.csv',\n",
       " '/Users/omarschall/blueprint-stats/library/Passes vs. HIP 2019-08-11_10-00-56.csv',\n",
       " '/Users/omarschall/blueprint-stats/library/Passes vs. Vault 2019-08-11_14-00-42.csv',\n",
       " '/Users/omarschall/blueprint-stats/library/Passes vs. Big Wrench 2019-09-22_12-00-36.csv',\n",
       " '/Users/omarschall/blueprint-stats/library/Passes vs. Citywide 2019-08-10_15-00-30.csv',\n",
       " '/Users/omarschall/blueprint-stats/library/Passes vs. Shade 2019-09-08_14-00-14.csv',\n",
       " '/Users/omarschall/blueprint-stats/library/Passes vs. Red Circus 2019-09-21_14-00-53.csv',\n",
       " '/Users/omarschall/blueprint-stats/library/Passes vs. El Nino 2019-08-10_16-00-57.csv',\n",
       " '/Users/omarschall/blueprint-stats/library/Passes vs. Floodwall 2019-08-10_09-30-50.csv',\n",
       " '/Users/omarschall/blueprint-stats/library/Passes vs. Lantern 2019-09-22_14-38-56.csv']"
      ]
     },
     "execution_count": 3,
     "metadata": {},
     "output_type": "execute_result"
    }
   ],
   "source": [
    "file_list = glob.glob(data_path_abbr)\n",
    "file_list"
   ]
  },
  {
   "cell_type": "code",
   "execution_count": 20,
   "metadata": {
    "collapsed": true
   },
   "outputs": [],
   "source": [
    "df = pd.DataFrame()"
   ]
  },
  {
   "cell_type": "code",
   "execution_count": 21,
   "metadata": {},
   "outputs": [],
   "source": [
    "opponents_list = []\n",
    "for file in file_list:\n",
    "    opponent = file.split('vs. ')[1].split(' 2019')[0]\n",
    "    df_ = pd.read_csv(file)\n",
    "    df_['opponent'] = opponent\n",
    "    opponents_list.append(opponent)\n",
    "    df = df.append(df_)"
   ]
  },
  {
   "cell_type": "code",
   "execution_count": 22,
   "metadata": {},
   "outputs": [],
   "source": [
    "df = df.dropna(subset={'Thrower', 'Receiver'})"
   ]
  },
  {
   "cell_type": "code",
   "execution_count": 23,
   "metadata": {},
   "outputs": [],
   "source": [
    "df = df.reset_index()"
   ]
  },
  {
   "cell_type": "code",
   "execution_count": 31,
   "metadata": {},
   "outputs": [],
   "source": [
    "poss_ids = np.array([df['Point'], df['Possession'], [opponents_list.index(o) for o in df['opponent']]]).T"
   ]
  },
  {
   "cell_type": "code",
   "execution_count": 33,
   "metadata": {},
   "outputs": [
    {
     "data": {
      "text/plain": [
       "array([[1, 1, 0],\n",
       "       [1, 1, 0],\n",
       "       [1, 1, 0],\n",
       "       [1, 1, 0]])"
      ]
     },
     "execution_count": 33,
     "metadata": {},
     "output_type": "execute_result"
    }
   ],
   "source": [
    "poss_ids[:4]"
   ]
  },
  {
   "cell_type": "code",
   "execution_count": 39,
   "metadata": {},
   "outputs": [],
   "source": [
    "assists = np.array(df['Assist?'])\n",
    "turnovers = np.array(df['Turnover?'])"
   ]
  },
  {
   "cell_type": "code",
   "execution_count": 41,
   "metadata": {},
   "outputs": [],
   "source": [
    "Q = assists - turnovers"
   ]
  },
  {
   "cell_type": "code",
   "execution_count": 51,
   "metadata": {},
   "outputs": [],
   "source": [
    "outcomes = []\n",
    "for i in range(len(Q)-1, -1, -1):\n",
    "    \n",
    "    if Q[i] in [-1, 1]:\n",
    "        outcome = Q[i]\n",
    "    outcomes.append(outcome)"
   ]
  },
  {
   "cell_type": "code",
   "execution_count": 76,
   "metadata": {},
   "outputs": [],
   "source": [
    "outcomes = np.array(outcomes)"
   ]
  },
  {
   "cell_type": "code",
   "execution_count": 67,
   "metadata": {
    "collapsed": true
   },
   "outputs": [],
   "source": [
    "X = 40*np.array(df['Start X (0 -> 1 = left sideline -> right sideline)'])\n",
    "Y = 110*np.array(df['Start Y (0 -> 1 = back of opponent endzone -> back of own endzone)'])"
   ]
  },
  {
   "cell_type": "code",
   "execution_count": 91,
   "metadata": {},
   "outputs": [
    {
     "data": {
      "image/png": "[encoded data removed]",
      "text/plain": [
       "<matplotlib.figure.Figure at 0x122198358>"
      ]
     },
     "metadata": {
      "needs_background": "light"
     },
     "output_type": "display_data"
    }
   ],
   "source": [
    "fig = plt.figure(figsize=(4, 11))\n",
    "bins = [range(0, 40, 10), range(0, 110, 10)]\n",
    "H1, x_edges, y_edges = np.histogram2d(X[np.where(outcomes==1)], Y[np.where(outcomes==1)], bins=bins)\n",
    "H2, x_edges, y_edges = np.histogram2d(X[np.where(outcomes==-1)], Y[np.where(outcomes==-1)], bins=bins)\n",
    "plt.imshow((H1 - H2).T, cmap='RdBu_r')\n",
    "plt.colorbar()\n",
    "fig.savefig(os.path.join(figs_path, 'score_turn_diff.pdf'), dpi=300, format='pdf')"
   ]
  },
  {
   "cell_type": "code",
   "execution_count": 92,
   "metadata": {},
   "outputs": [
    {
     "data": {
      "image/png": "[encoded data removed]",
      "text/plain": [
       "<matplotlib.figure.Figure at 0x1226880b8>"
      ]
     },
     "metadata": {
      "needs_background": "light"
     },
     "output_type": "display_data"
    }
   ],
   "source": [
    "fig = plt.figure(figsize=(4, 11))\n",
    "plt.imshow((H1 + H2).T, cmap='RdBu_r')\n",
    "plt.colorbar()\n",
    "fig.savefig(os.path.join(figs_path, 'total.pdf'), dpi=300, format='pdf')"
   ]
  },
  {
   "cell_type": "code",
   "execution_count": 94,
   "metadata": {
    "collapsed": true
   },
   "outputs": [],
   "source": [
    "forward_yardage = np.array(df['Forward distance (m)'])"
   ]
  },
  {
   "cell_type": "code",
   "execution_count": 111,
   "metadata": {},
   "outputs": [],
   "source": [
    "df_non_turns = df[df['Turnover?'] == 0]\n",
    "bins = [range(0, 40, 10), range(0, 110, 10)]\n",
    "forward_yardage = np.array(df_non_turns['Forward distance (m)'])\n",
    "X = 40*np.array(df_non_turns['Start X (0 -> 1 = left sideline -> right sideline)'])\n",
    "Y = 110*np.array(df_non_turns['Start Y (0 -> 1 = back of opponent endzone -> back of own endzone)'])\n",
    "H, x_edges, y_edges = np.histogram2d(X, Y, weights=forward_yardage, bins=bins)"
   ]
  },
  {
   "cell_type": "code",
   "execution_count": 116,
   "metadata": {},
   "outputs": [
    {
     "name": "stderr",
     "output_type": "stream",
     "text": [
      "/Users/omarschall/anaconda3/lib/python3.6/site-packages/ipykernel_launcher.py:2: RuntimeWarning: invalid value encountered in true_divide\n",
      "  \n"
     ]
    },
    {
     "data": {
      "image/png": "[encoded data removed]",
      "text/plain": [
       "<matplotlib.figure.Figure at 0x124107eb8>"
      ]
     },
     "metadata": {
      "needs_background": "light"
     },
     "output_type": "display_data"
    }
   ],
   "source": [
    "fig = plt.figure(figsize=(4, 11))\n",
    "plt.imshow(H.T/(H1 + H2).T, cmap='RdBu_r')\n",
    "plt.colorbar()\n",
    "fig.savefig(os.path.join(figs_path, 'yardage.pdf'), dpi=300, format='pdf')"
   ]
  },
  {
   "cell_type": "code",
   "execution_count": 117,
   "metadata": {},
   "outputs": [
    {
     "data": {
      "text/plain": [
       "array([[  0.,   0.,  24.,  51.,  33.,  39.,  44.,  30.,  23.,  10.],\n",
       "       [  0.,   0.,  19.,  37.,  41.,  43.,  42.,  56.,  47.,  26.],\n",
       "       [  0.,   0.,  22.,  32.,  49.,  37.,  45.,  69.,  50.,  35.]])"
      ]
     },
     "execution_count": 117,
     "metadata": {},
     "output_type": "execute_result"
    }
   ],
   "source": [
    "H1 + H2"
   ]
  }
 ],
 "metadata": {
  "kernelspec": {
   "display_name": "Python 3",
   "language": "python",
   "name": "python3"
  },
  "language_info": {
   "codemirror_mode": {
    "name": "ipython",
    "version": 3
   },
   "file_extension": ".py",
   "mimetype": "text/x-python",
   "name": "python",
   "nbconvert_exporter": "python",
   "pygments_lexer": "ipython3",
   "version": "3.6.7"
  }
 },
 "nbformat": 4,
 "nbformat_minor": 2
}
